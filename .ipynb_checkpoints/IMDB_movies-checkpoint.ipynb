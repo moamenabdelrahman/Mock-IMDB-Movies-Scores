{
 "cells": [
  {
   "cell_type": "markdown",
   "id": "fb803c7e",
   "metadata": {},
   "source": [
    "# Mock IMDB Movies Scores"
   ]
  },
  {
   "cell_type": "markdown",
   "id": "de44cccd",
   "metadata": {},
   "source": [
    "## Questions to answer:\n",
    "\n",
    "> What are the directors that have the lowest and highest mean budget-to-score ratio?\n",
    "\n",
    "> Do people give higher scores to movies with longer or shorter duration?\n",
    "\n",
    "> Which year had the highest budget spent on movies and what are those movies?\n",
    "\n",
    "> Which two actors worked together in movies most?\n",
    "\n",
    "> Who are the top 3 actors Steven Spielberg favors most as main actors?\n",
    "\n",
    "> Do movies with high budget usually have high scores?\n",
    "\n",
    "> Which country has the highest average spending per movie?\n",
    "\n",
    "> Do movies with more genres usually have higher score?\n",
    "\n",
    "> Does higher duration of films tends to come with higher budget?\n",
    "\n",
    "> Which director and country made the most diversified movie languages?"
   ]
  },
  {
   "cell_type": "markdown",
   "id": "5b974c05",
   "metadata": {},
   "source": [
    "## Importing and Wrangling Data"
   ]
  },
  {
   "cell_type": "code",
   "execution_count": 1,
   "id": "6da62714",
   "metadata": {},
   "outputs": [],
   "source": [
    "# importing important libraries\n",
    "import pandas as pd\n",
    "import numpy as np\n",
    "import matplotlib.pyplot as plt"
   ]
  },
  {
   "cell_type": "code",
   "execution_count": 2,
   "id": "842d9249",
   "metadata": {},
   "outputs": [],
   "source": [
    "# load in the dataset\n",
    "file_path = 'E:\\\\IEEE\\\\IMDB_movies.csv'\n",
    "df = pd.read_csv(file_path)"
   ]
  },
  {
   "cell_type": "code",
   "execution_count": 3,
   "id": "c7cb2fd2",
   "metadata": {},
   "outputs": [
    {
     "data": {
      "text/html": [
       "<div>\n",
       "<style scoped>\n",
       "    .dataframe tbody tr th:only-of-type {\n",
       "        vertical-align: middle;\n",
       "    }\n",
       "\n",
       "    .dataframe tbody tr th {\n",
       "        vertical-align: top;\n",
       "    }\n",
       "\n",
       "    .dataframe thead th {\n",
       "        text-align: right;\n",
       "    }\n",
       "</style>\n",
       "<table border=\"1\" class=\"dataframe\">\n",
       "  <thead>\n",
       "    <tr style=\"text-align: right;\">\n",
       "      <th></th>\n",
       "      <th>color</th>\n",
       "      <th>director_name</th>\n",
       "      <th>duration</th>\n",
       "      <th>actor_1_name</th>\n",
       "      <th>actor_2_name</th>\n",
       "      <th>genres</th>\n",
       "      <th>movie_title</th>\n",
       "      <th>num_voted_users</th>\n",
       "      <th>plot_keywords</th>\n",
       "      <th>movie_imdb_link</th>\n",
       "      <th>language</th>\n",
       "      <th>country</th>\n",
       "      <th>budget</th>\n",
       "      <th>release_date</th>\n",
       "      <th>imdb_score</th>\n",
       "      <th>movie_facebook_likes</th>\n",
       "    </tr>\n",
       "  </thead>\n",
       "  <tbody>\n",
       "    <tr>\n",
       "      <th>0</th>\n",
       "      <td>Color</td>\n",
       "      <td>James Cameron</td>\n",
       "      <td>178.0</td>\n",
       "      <td>CCH Pounder</td>\n",
       "      <td>Joel David Moore</td>\n",
       "      <td>Action|Adventure|Fantasy|Sci-Fi</td>\n",
       "      <td>Avatar</td>\n",
       "      <td>886204</td>\n",
       "      <td>avatar|future|marine|native|paraplegic</td>\n",
       "      <td>http://www.imdb.com/title/tt0499549/?ref_=fn_t...</td>\n",
       "      <td>English</td>\n",
       "      <td>USA</td>\n",
       "      <td>237000000.0</td>\n",
       "      <td>1/1/2009</td>\n",
       "      <td>7.9</td>\n",
       "      <td>33000</td>\n",
       "    </tr>\n",
       "    <tr>\n",
       "      <th>1</th>\n",
       "      <td>Color</td>\n",
       "      <td>Gore Verbinski</td>\n",
       "      <td>169.0</td>\n",
       "      <td>Johnny Depp</td>\n",
       "      <td>Orlando Bloom</td>\n",
       "      <td>Action|Adventure|Fantasy</td>\n",
       "      <td>Pirates of the Caribbean: At World's End</td>\n",
       "      <td>471220</td>\n",
       "      <td>goddess|marriage ceremony|marriage proposal|pi...</td>\n",
       "      <td>http://www.imdb.com/title/tt0449088/?ref_=fn_t...</td>\n",
       "      <td>English</td>\n",
       "      <td>USA</td>\n",
       "      <td>300000000.0</td>\n",
       "      <td>1/1/2007</td>\n",
       "      <td>12.0</td>\n",
       "      <td>0</td>\n",
       "    </tr>\n",
       "    <tr>\n",
       "      <th>2</th>\n",
       "      <td>Color</td>\n",
       "      <td>Sam Mendes</td>\n",
       "      <td>148.0</td>\n",
       "      <td>Christoph Waltz</td>\n",
       "      <td>Rory Kinnear</td>\n",
       "      <td>Action|Adventure|Thriller</td>\n",
       "      <td>Spectre</td>\n",
       "      <td>275868</td>\n",
       "      <td>bomb|espionage|sequel|spy|terrorist</td>\n",
       "      <td>http://www.imdb.com/title/tt2379713/?ref_=fn_t...</td>\n",
       "      <td>English</td>\n",
       "      <td>UK</td>\n",
       "      <td>245000000.0</td>\n",
       "      <td>1/1/2015</td>\n",
       "      <td>6.8</td>\n",
       "      <td>85000</td>\n",
       "    </tr>\n",
       "    <tr>\n",
       "      <th>3</th>\n",
       "      <td>Color</td>\n",
       "      <td>Christopher Nolan</td>\n",
       "      <td>164.0</td>\n",
       "      <td>Tom Hardy</td>\n",
       "      <td>Christian Bale</td>\n",
       "      <td>Action|Thriller</td>\n",
       "      <td>The Dark Knight Rises</td>\n",
       "      <td>1144337</td>\n",
       "      <td>deception|imprisonment|lawlessness|police offi...</td>\n",
       "      <td>http://www.imdb.com/title/tt1345836/?ref_=fn_t...</td>\n",
       "      <td>English</td>\n",
       "      <td>USA</td>\n",
       "      <td>250000000.0</td>\n",
       "      <td>1/1/2012</td>\n",
       "      <td>8.5</td>\n",
       "      <td>164000</td>\n",
       "    </tr>\n",
       "    <tr>\n",
       "      <th>4</th>\n",
       "      <td>NaN</td>\n",
       "      <td>Doug Walker</td>\n",
       "      <td>NaN</td>\n",
       "      <td>Doug Walker</td>\n",
       "      <td>Rob Walker</td>\n",
       "      <td>Documentary</td>\n",
       "      <td>Star Wars: Episode VII - The Force Awakens    ...</td>\n",
       "      <td>8</td>\n",
       "      <td>NaN</td>\n",
       "      <td>http://www.imdb.com/title/tt5289954/?ref_=fn_t...</td>\n",
       "      <td>NaN</td>\n",
       "      <td>NaN</td>\n",
       "      <td>NaN</td>\n",
       "      <td>1/1/2055</td>\n",
       "      <td>12.0</td>\n",
       "      <td>0</td>\n",
       "    </tr>\n",
       "  </tbody>\n",
       "</table>\n",
       "</div>"
      ],
      "text/plain": [
       "   color      director_name  duration     actor_1_name      actor_2_name  \\\n",
       "0  Color      James Cameron     178.0      CCH Pounder  Joel David Moore   \n",
       "1  Color     Gore Verbinski     169.0      Johnny Depp     Orlando Bloom   \n",
       "2  Color         Sam Mendes     148.0  Christoph Waltz      Rory Kinnear   \n",
       "3  Color  Christopher Nolan     164.0        Tom Hardy    Christian Bale   \n",
       "4    NaN        Doug Walker       NaN      Doug Walker        Rob Walker   \n",
       "\n",
       "                            genres  \\\n",
       "0  Action|Adventure|Fantasy|Sci-Fi   \n",
       "1         Action|Adventure|Fantasy   \n",
       "2        Action|Adventure|Thriller   \n",
       "3                  Action|Thriller   \n",
       "4                      Documentary   \n",
       "\n",
       "                                         movie_title  num_voted_users  \\\n",
       "0                                            Avatar            886204   \n",
       "1          Pirates of the Caribbean: At World's End            471220   \n",
       "2                                           Spectre            275868   \n",
       "3                             The Dark Knight Rises           1144337   \n",
       "4  Star Wars: Episode VII - The Force Awakens    ...                8   \n",
       "\n",
       "                                       plot_keywords  \\\n",
       "0             avatar|future|marine|native|paraplegic   \n",
       "1  goddess|marriage ceremony|marriage proposal|pi...   \n",
       "2                bomb|espionage|sequel|spy|terrorist   \n",
       "3  deception|imprisonment|lawlessness|police offi...   \n",
       "4                                                NaN   \n",
       "\n",
       "                                     movie_imdb_link language country  \\\n",
       "0  http://www.imdb.com/title/tt0499549/?ref_=fn_t...  English     USA   \n",
       "1  http://www.imdb.com/title/tt0449088/?ref_=fn_t...  English     USA   \n",
       "2  http://www.imdb.com/title/tt2379713/?ref_=fn_t...  English      UK   \n",
       "3  http://www.imdb.com/title/tt1345836/?ref_=fn_t...  English     USA   \n",
       "4  http://www.imdb.com/title/tt5289954/?ref_=fn_t...      NaN     NaN   \n",
       "\n",
       "        budget release_date  imdb_score  movie_facebook_likes  \n",
       "0  237000000.0     1/1/2009         7.9                 33000  \n",
       "1  300000000.0     1/1/2007        12.0                     0  \n",
       "2  245000000.0     1/1/2015         6.8                 85000  \n",
       "3  250000000.0     1/1/2012         8.5                164000  \n",
       "4          NaN     1/1/2055        12.0                     0  "
      ]
     },
     "execution_count": 3,
     "metadata": {},
     "output_type": "execute_result"
    }
   ],
   "source": [
    "# view few rows of the dataset\n",
    "df.head()"
   ]
  },
  {
   "cell_type": "code",
   "execution_count": 4,
   "id": "6b797fc9",
   "metadata": {},
   "outputs": [
    {
     "name": "stdout",
     "output_type": "stream",
     "text": [
      "<class 'pandas.core.frame.DataFrame'>\n",
      "RangeIndex: 5055 entries, 0 to 5054\n",
      "Data columns (total 16 columns):\n",
      " #   Column                Non-Null Count  Dtype  \n",
      "---  ------                --------------  -----  \n",
      " 0   color                 5036 non-null   object \n",
      " 1   director_name         4951 non-null   object \n",
      " 2   duration              5040 non-null   float64\n",
      " 3   actor_1_name          5048 non-null   object \n",
      " 4   actor_2_name          5042 non-null   object \n",
      " 5   genres                5055 non-null   object \n",
      " 6   movie_title           5055 non-null   object \n",
      " 7   num_voted_users       5055 non-null   int64  \n",
      " 8   plot_keywords         4902 non-null   object \n",
      " 9   movie_imdb_link       5042 non-null   object \n",
      " 10  language              5043 non-null   object \n",
      " 11  country               5047 non-null   object \n",
      " 12  budget                4563 non-null   float64\n",
      " 13  release_date          4951 non-null   object \n",
      " 14  imdb_score            5055 non-null   float64\n",
      " 15  movie_facebook_likes  5055 non-null   int64  \n",
      "dtypes: float64(3), int64(2), object(11)\n",
      "memory usage: 632.0+ KB\n"
     ]
    }
   ],
   "source": [
    "# have a look at the different columns and their dtypes\n",
    "df.info()"
   ]
  },
  {
   "cell_type": "markdown",
   "id": "bc6ca757",
   "metadata": {},
   "source": [
    "#### all dtypes looks okay but the `release_date` column, we should convert it into `datetime`"
   ]
  },
  {
   "cell_type": "code",
   "execution_count": 5,
   "id": "0b863e4d",
   "metadata": {},
   "outputs": [],
   "source": [
    "# convert release_date column dtype to datetime\n",
    "df['release_date'] = pd.to_datetime(df['release_date'], errors = 'ignore')"
   ]
  },
  {
   "cell_type": "code",
   "execution_count": 6,
   "id": "ecb201e9",
   "metadata": {},
   "outputs": [
    {
     "name": "stdout",
     "output_type": "stream",
     "text": [
      "<class 'pandas.core.frame.DataFrame'>\n",
      "RangeIndex: 5055 entries, 0 to 5054\n",
      "Data columns (total 16 columns):\n",
      " #   Column                Non-Null Count  Dtype         \n",
      "---  ------                --------------  -----         \n",
      " 0   color                 5036 non-null   object        \n",
      " 1   director_name         4951 non-null   object        \n",
      " 2   duration              5040 non-null   float64       \n",
      " 3   actor_1_name          5048 non-null   object        \n",
      " 4   actor_2_name          5042 non-null   object        \n",
      " 5   genres                5055 non-null   object        \n",
      " 6   movie_title           5055 non-null   object        \n",
      " 7   num_voted_users       5055 non-null   int64         \n",
      " 8   plot_keywords         4902 non-null   object        \n",
      " 9   movie_imdb_link       5042 non-null   object        \n",
      " 10  language              5043 non-null   object        \n",
      " 11  country               5047 non-null   object        \n",
      " 12  budget                4563 non-null   float64       \n",
      " 13  release_date          4951 non-null   datetime64[ns]\n",
      " 14  imdb_score            5055 non-null   float64       \n",
      " 15  movie_facebook_likes  5055 non-null   int64         \n",
      "dtypes: datetime64[ns](1), float64(3), int64(2), object(10)\n",
      "memory usage: 632.0+ KB\n"
     ]
    }
   ],
   "source": [
    "# check our changes\n",
    "df.info()"
   ]
  },
  {
   "cell_type": "markdown",
   "id": "a4a4a54c",
   "metadata": {},
   "source": [
    "#### Check duplicated data"
   ]
  },
  {
   "cell_type": "code",
   "execution_count": 7,
   "id": "a44139f0",
   "metadata": {},
   "outputs": [
    {
     "data": {
      "text/plain": [
       "59"
      ]
     },
     "execution_count": 7,
     "metadata": {},
     "output_type": "execute_result"
    }
   ],
   "source": [
    "# count duplicated rows\n",
    "df.duplicated().sum()"
   ]
  },
  {
   "cell_type": "code",
   "execution_count": 8,
   "id": "f1116064",
   "metadata": {},
   "outputs": [],
   "source": [
    "# drop all duplicated rows and fix the index\n",
    "df.drop_duplicates(inplace=True, ignore_index=True)"
   ]
  },
  {
   "cell_type": "code",
   "execution_count": 9,
   "id": "64f4bc6d",
   "metadata": {},
   "outputs": [
    {
     "data": {
      "text/plain": [
       "0"
      ]
     },
     "execution_count": 9,
     "metadata": {},
     "output_type": "execute_result"
    }
   ],
   "source": [
    "# check our changes\n",
    "df.duplicated().sum()"
   ]
  },
  {
   "cell_type": "markdown",
   "id": "2b441bb1",
   "metadata": {},
   "source": [
    "#### Check null values across columns"
   ]
  },
  {
   "cell_type": "code",
   "execution_count": 10,
   "id": "48b0c2b0",
   "metadata": {},
   "outputs": [
    {
     "data": {
      "text/plain": [
       "color                    19\n",
       "director_name           103\n",
       "duration                 15\n",
       "actor_1_name              7\n",
       "actor_2_name             13\n",
       "genres                    0\n",
       "movie_title               0\n",
       "num_voted_users           0\n",
       "plot_keywords           152\n",
       "movie_imdb_link          13\n",
       "language                 12\n",
       "country                   8\n",
       "budget                  486\n",
       "release_date            103\n",
       "imdb_score                0\n",
       "movie_facebook_likes      0\n",
       "dtype: int64"
      ]
     },
     "execution_count": 10,
     "metadata": {},
     "output_type": "execute_result"
    }
   ],
   "source": [
    "# count null values per column\n",
    "df.isnull().sum()"
   ]
  },
  {
   "cell_type": "code",
   "execution_count": 11,
   "id": "a35c27a1",
   "metadata": {},
   "outputs": [
    {
     "name": "stdout",
     "output_type": "stream",
     "text": [
      " 18.63% of our data are null values!\n"
     ]
    }
   ],
   "source": [
    "# percentage of null values\n",
    "pct = df.isnull().sum().sum()/df.shape[0] * 100\n",
    "print(f'{pct: .2f}% of our data are null values!')"
   ]
  },
  {
   "cell_type": "markdown",
   "id": "6a2b48fe",
   "metadata": {},
   "source": [
    "#### about 20% of our data are null, it's a big percentage, so, we can't drop them all, but think to fill them"
   ]
  },
  {
   "cell_type": "markdown",
   "id": "72aedb6e",
   "metadata": {},
   "source": [
    "#### view distribution of `duration` column"
   ]
  },
  {
   "cell_type": "code",
   "execution_count": 12,
   "id": "a2dc0213",
   "metadata": {},
   "outputs": [
    {
     "data": {
      "text/plain": [
       "count    4981.000000\n",
       "mean      107.214214\n",
       "std        25.253679\n",
       "min         7.000000\n",
       "25%        93.000000\n",
       "50%       103.000000\n",
       "75%       118.000000\n",
       "max       511.000000\n",
       "Name: duration, dtype: float64"
      ]
     },
     "execution_count": 12,
     "metadata": {},
     "output_type": "execute_result"
    }
   ],
   "source": [
    "df['duration'].describe()"
   ]
  },
  {
   "cell_type": "markdown",
   "id": "a6fe06bb",
   "metadata": {},
   "source": [
    "#### mean is not far away from median, so, we can fill the null values with the mean duration"
   ]
  },
  {
   "cell_type": "code",
   "execution_count": 13,
   "id": "fe7e0657",
   "metadata": {},
   "outputs": [],
   "source": [
    "df['duration'].fillna(df['duration'].mean(), inplace=True)"
   ]
  },
  {
   "cell_type": "markdown",
   "id": "62699ad5",
   "metadata": {},
   "source": [
    "#### view null values in `language` column"
   ]
  },
  {
   "cell_type": "code",
   "execution_count": 14,
   "id": "f71c8bdb",
   "metadata": {},
   "outputs": [
    {
     "data": {
      "text/html": [
       "<div>\n",
       "<style scoped>\n",
       "    .dataframe tbody tr th:only-of-type {\n",
       "        vertical-align: middle;\n",
       "    }\n",
       "\n",
       "    .dataframe tbody tr th {\n",
       "        vertical-align: top;\n",
       "    }\n",
       "\n",
       "    .dataframe thead th {\n",
       "        text-align: right;\n",
       "    }\n",
       "</style>\n",
       "<table border=\"1\" class=\"dataframe\">\n",
       "  <thead>\n",
       "    <tr style=\"text-align: right;\">\n",
       "      <th></th>\n",
       "      <th>color</th>\n",
       "      <th>director_name</th>\n",
       "      <th>duration</th>\n",
       "      <th>actor_1_name</th>\n",
       "      <th>actor_2_name</th>\n",
       "      <th>genres</th>\n",
       "      <th>movie_title</th>\n",
       "      <th>num_voted_users</th>\n",
       "      <th>plot_keywords</th>\n",
       "      <th>movie_imdb_link</th>\n",
       "      <th>language</th>\n",
       "      <th>country</th>\n",
       "      <th>budget</th>\n",
       "      <th>release_date</th>\n",
       "      <th>imdb_score</th>\n",
       "      <th>movie_facebook_likes</th>\n",
       "    </tr>\n",
       "  </thead>\n",
       "  <tbody>\n",
       "    <tr>\n",
       "      <th>4</th>\n",
       "      <td>NaN</td>\n",
       "      <td>Doug Walker</td>\n",
       "      <td>107.214214</td>\n",
       "      <td>Doug Walker</td>\n",
       "      <td>Rob Walker</td>\n",
       "      <td>Documentary</td>\n",
       "      <td>Star Wars: Episode VII - The Force Awakens    ...</td>\n",
       "      <td>8</td>\n",
       "      <td>NaN</td>\n",
       "      <td>http://www.imdb.com/title/tt5289954/?ref_=fn_t...</td>\n",
       "      <td>NaN</td>\n",
       "      <td>NaN</td>\n",
       "      <td>NaN</td>\n",
       "      <td>2055-01-01</td>\n",
       "      <td>12.0</td>\n",
       "      <td>0</td>\n",
       "    </tr>\n",
       "    <tr>\n",
       "      <th>276</th>\n",
       "      <td>NaN</td>\n",
       "      <td>Christopher Barnard</td>\n",
       "      <td>22.000000</td>\n",
       "      <td>Mathew Buck</td>\n",
       "      <td>NaN</td>\n",
       "      <td>Comedy</td>\n",
       "      <td>10,000 B.C.</td>\n",
       "      <td>6</td>\n",
       "      <td>NaN</td>\n",
       "      <td>http://www.imdb.com/title/tt1869849/?ref_=fn_t...</td>\n",
       "      <td>NaN</td>\n",
       "      <td>NaN</td>\n",
       "      <td>NaN</td>\n",
       "      <td>2055-01-01</td>\n",
       "      <td>7.2</td>\n",
       "      <td>0</td>\n",
       "    </tr>\n",
       "    <tr>\n",
       "      <th>2443</th>\n",
       "      <td>NaN</td>\n",
       "      <td>NaN</td>\n",
       "      <td>60.000000</td>\n",
       "      <td>Poppy Montgomery</td>\n",
       "      <td>Dylan Walsh</td>\n",
       "      <td>Drama|Mystery</td>\n",
       "      <td>Unforgettable</td>\n",
       "      <td>12854</td>\n",
       "      <td>hyperthymesia|new york city|police</td>\n",
       "      <td>http://www.imdb.com/title/tt1842530/?ref_=fn_t...</td>\n",
       "      <td>NaN</td>\n",
       "      <td>USA</td>\n",
       "      <td>NaN</td>\n",
       "      <td>NaT</td>\n",
       "      <td>6.7</td>\n",
       "      <td>0</td>\n",
       "    </tr>\n",
       "    <tr>\n",
       "      <th>3060</th>\n",
       "      <td>Color</td>\n",
       "      <td>Christopher Cain</td>\n",
       "      <td>111.000000</td>\n",
       "      <td>Jon Gries</td>\n",
       "      <td>Taylor Handley</td>\n",
       "      <td>Drama|History|Romance|Western</td>\n",
       "      <td>September Dawn</td>\n",
       "      <td>2618</td>\n",
       "      <td>massacre|mormon|settler|utah|wagon train</td>\n",
       "      <td>http://www.imdb.com/title/tt0473700/?ref_=fn_t...</td>\n",
       "      <td>NaN</td>\n",
       "      <td>USA</td>\n",
       "      <td>11000000.0</td>\n",
       "      <td>2007-01-01</td>\n",
       "      <td>5.8</td>\n",
       "      <td>411</td>\n",
       "    </tr>\n",
       "    <tr>\n",
       "      <th>3509</th>\n",
       "      <td>NaN</td>\n",
       "      <td>Richard Rich</td>\n",
       "      <td>45.000000</td>\n",
       "      <td>Debi Derryberry</td>\n",
       "      <td>Kate Higgins</td>\n",
       "      <td>Action|Adventure|Animation|Comedy|Drama|Family...</td>\n",
       "      <td>Alpha and Omega 4: The Legend of the Saw Tooth...</td>\n",
       "      <td>192</td>\n",
       "      <td>blindness|cave|spirit|wolf|wolf cub</td>\n",
       "      <td>http://www.imdb.com/title/tt4061848/?ref_=fn_t...</td>\n",
       "      <td>NaN</td>\n",
       "      <td>USA</td>\n",
       "      <td>7000000.0</td>\n",
       "      <td>2014-01-01</td>\n",
       "      <td>6.0</td>\n",
       "      <td>41</td>\n",
       "    </tr>\n",
       "    <tr>\n",
       "      <th>3838</th>\n",
       "      <td>Color</td>\n",
       "      <td>Mel Brooks</td>\n",
       "      <td>87.000000</td>\n",
       "      <td>Sid Caesar</td>\n",
       "      <td>Dom DeLuise</td>\n",
       "      <td>Comedy|Romance</td>\n",
       "      <td>Silent Movie</td>\n",
       "      <td>12666</td>\n",
       "      <td>black comedy|friend|modern silent movie|silent...</td>\n",
       "      <td>http://www.imdb.com/title/tt0075222/?ref_=fn_t...</td>\n",
       "      <td>NaN</td>\n",
       "      <td>USA</td>\n",
       "      <td>4400000.0</td>\n",
       "      <td>1976-01-01</td>\n",
       "      <td>6.7</td>\n",
       "      <td>629</td>\n",
       "    </tr>\n",
       "    <tr>\n",
       "      <th>4077</th>\n",
       "      <td>Color</td>\n",
       "      <td>Michael Landon Jr.</td>\n",
       "      <td>87.000000</td>\n",
       "      <td>William Morgan Sheppard</td>\n",
       "      <td>Kevin Gage</td>\n",
       "      <td>Drama|Family|Western</td>\n",
       "      <td>Love's Abiding Joy</td>\n",
       "      <td>1289</td>\n",
       "      <td>19th century|faith|mayor|ranch|sheriff</td>\n",
       "      <td>http://www.imdb.com/title/tt0785025/?ref_=fn_t...</td>\n",
       "      <td>NaN</td>\n",
       "      <td>USA</td>\n",
       "      <td>3000000.0</td>\n",
       "      <td>2006-01-01</td>\n",
       "      <td>7.2</td>\n",
       "      <td>76</td>\n",
       "    </tr>\n",
       "    <tr>\n",
       "      <th>4371</th>\n",
       "      <td>NaN</td>\n",
       "      <td>John Stockwell</td>\n",
       "      <td>90.000000</td>\n",
       "      <td>Matthew Ziff</td>\n",
       "      <td>T.J. Storm</td>\n",
       "      <td>Action</td>\n",
       "      <td>Kickboxer: Vengeance</td>\n",
       "      <td>246</td>\n",
       "      <td>NaN</td>\n",
       "      <td>http://www.imdb.com/title/tt3082898/?ref_=fn_t...</td>\n",
       "      <td>NaN</td>\n",
       "      <td>USA</td>\n",
       "      <td>17000000.0</td>\n",
       "      <td>2016-01-01</td>\n",
       "      <td>9.1</td>\n",
       "      <td>0</td>\n",
       "    </tr>\n",
       "    <tr>\n",
       "      <th>4590</th>\n",
       "      <td>NaN</td>\n",
       "      <td>Jonathan Meyers</td>\n",
       "      <td>111.000000</td>\n",
       "      <td>Justin Baldoni</td>\n",
       "      <td>Luke Perry</td>\n",
       "      <td>Drama</td>\n",
       "      <td>A Fine Step</td>\n",
       "      <td>207</td>\n",
       "      <td>NaN</td>\n",
       "      <td>http://www.imdb.com/title/tt1604100/?ref_=fn_t...</td>\n",
       "      <td>NaN</td>\n",
       "      <td>USA</td>\n",
       "      <td>1000000.0</td>\n",
       "      <td>2014-01-01</td>\n",
       "      <td>5.3</td>\n",
       "      <td>212</td>\n",
       "    </tr>\n",
       "    <tr>\n",
       "      <th>4768</th>\n",
       "      <td>Black and White</td>\n",
       "      <td>D.W. Griffith</td>\n",
       "      <td>123.000000</td>\n",
       "      <td>Lillian Gish</td>\n",
       "      <td>Mae Marsh</td>\n",
       "      <td>Drama|History|War</td>\n",
       "      <td>Intolerance: Love's Struggle Throughout the Ages</td>\n",
       "      <td>10718</td>\n",
       "      <td>huguenot|intolerance|medicis|protestant|wedding</td>\n",
       "      <td>http://www.imdb.com/title/tt0006864/?ref_=fn_t...</td>\n",
       "      <td>NaN</td>\n",
       "      <td>USA</td>\n",
       "      <td>385907.0</td>\n",
       "      <td>1916-01-01</td>\n",
       "      <td>8.0</td>\n",
       "      <td>691</td>\n",
       "    </tr>\n",
       "    <tr>\n",
       "      <th>4842</th>\n",
       "      <td>Black and White</td>\n",
       "      <td>King Vidor</td>\n",
       "      <td>151.000000</td>\n",
       "      <td>John Gilbert</td>\n",
       "      <td>Renée Adorée</td>\n",
       "      <td>Drama|Romance|War</td>\n",
       "      <td>The Big Parade</td>\n",
       "      <td>4849</td>\n",
       "      <td>chewing gum|climbing a tree|france|translation...</td>\n",
       "      <td>http://www.imdb.com/title/tt0015624/?ref_=fn_t...</td>\n",
       "      <td>NaN</td>\n",
       "      <td>USA</td>\n",
       "      <td>245000.0</td>\n",
       "      <td>1925-01-01</td>\n",
       "      <td>8.3</td>\n",
       "      <td>226</td>\n",
       "    </tr>\n",
       "    <tr>\n",
       "      <th>4911</th>\n",
       "      <td>Black and White</td>\n",
       "      <td>Harry F. Millarde</td>\n",
       "      <td>110.000000</td>\n",
       "      <td>Stephen Carr</td>\n",
       "      <td>Johnnie Walker</td>\n",
       "      <td>Crime|Drama</td>\n",
       "      <td>Over the Hill to the Poorhouse</td>\n",
       "      <td>5</td>\n",
       "      <td>family relationships|gang|idler|poorhouse|thief</td>\n",
       "      <td>http://www.imdb.com/title/tt0011549/?ref_=fn_t...</td>\n",
       "      <td>NaN</td>\n",
       "      <td>USA</td>\n",
       "      <td>100000.0</td>\n",
       "      <td>1920-01-01</td>\n",
       "      <td>4.8</td>\n",
       "      <td>0</td>\n",
       "    </tr>\n",
       "  </tbody>\n",
       "</table>\n",
       "</div>"
      ],
      "text/plain": [
       "                 color        director_name    duration  \\\n",
       "4                  NaN          Doug Walker  107.214214   \n",
       "276                NaN  Christopher Barnard   22.000000   \n",
       "2443               NaN                  NaN   60.000000   \n",
       "3060             Color     Christopher Cain  111.000000   \n",
       "3509               NaN         Richard Rich   45.000000   \n",
       "3838             Color           Mel Brooks   87.000000   \n",
       "4077             Color   Michael Landon Jr.   87.000000   \n",
       "4371               NaN       John Stockwell   90.000000   \n",
       "4590               NaN      Jonathan Meyers  111.000000   \n",
       "4768   Black and White        D.W. Griffith  123.000000   \n",
       "4842   Black and White           King Vidor  151.000000   \n",
       "4911   Black and White    Harry F. Millarde  110.000000   \n",
       "\n",
       "                 actor_1_name    actor_2_name  \\\n",
       "4                 Doug Walker      Rob Walker   \n",
       "276               Mathew Buck             NaN   \n",
       "2443         Poppy Montgomery     Dylan Walsh   \n",
       "3060                Jon Gries  Taylor Handley   \n",
       "3509          Debi Derryberry    Kate Higgins   \n",
       "3838               Sid Caesar     Dom DeLuise   \n",
       "4077  William Morgan Sheppard      Kevin Gage   \n",
       "4371             Matthew Ziff      T.J. Storm   \n",
       "4590           Justin Baldoni      Luke Perry   \n",
       "4768             Lillian Gish       Mae Marsh   \n",
       "4842             John Gilbert    Renée Adorée   \n",
       "4911             Stephen Carr  Johnnie Walker   \n",
       "\n",
       "                                                 genres  \\\n",
       "4                                           Documentary   \n",
       "276                                              Comedy   \n",
       "2443                                      Drama|Mystery   \n",
       "3060                      Drama|History|Romance|Western   \n",
       "3509  Action|Adventure|Animation|Comedy|Drama|Family...   \n",
       "3838                                     Comedy|Romance   \n",
       "4077                               Drama|Family|Western   \n",
       "4371                                             Action   \n",
       "4590                                              Drama   \n",
       "4768                                  Drama|History|War   \n",
       "4842                                  Drama|Romance|War   \n",
       "4911                                        Crime|Drama   \n",
       "\n",
       "                                            movie_title  num_voted_users  \\\n",
       "4     Star Wars: Episode VII - The Force Awakens    ...                8   \n",
       "276                            10,000 B.C.                             6   \n",
       "2443                         Unforgettable                         12854   \n",
       "3060                                    September Dawn              2618   \n",
       "3509  Alpha and Omega 4: The Legend of the Saw Tooth...              192   \n",
       "3838                                      Silent Movie             12666   \n",
       "4077                                Love's Abiding Joy              1289   \n",
       "4371                              Kickboxer: Vengeance               246   \n",
       "4590                                       A Fine Step               207   \n",
       "4768  Intolerance: Love's Struggle Throughout the Ages             10718   \n",
       "4842                                    The Big Parade              4849   \n",
       "4911                    Over the Hill to the Poorhouse                 5   \n",
       "\n",
       "                                          plot_keywords  \\\n",
       "4                                                   NaN   \n",
       "276                                                 NaN   \n",
       "2443                 hyperthymesia|new york city|police   \n",
       "3060           massacre|mormon|settler|utah|wagon train   \n",
       "3509                blindness|cave|spirit|wolf|wolf cub   \n",
       "3838  black comedy|friend|modern silent movie|silent...   \n",
       "4077             19th century|faith|mayor|ranch|sheriff   \n",
       "4371                                                NaN   \n",
       "4590                                                NaN   \n",
       "4768    huguenot|intolerance|medicis|protestant|wedding   \n",
       "4842  chewing gum|climbing a tree|france|translation...   \n",
       "4911    family relationships|gang|idler|poorhouse|thief   \n",
       "\n",
       "                                        movie_imdb_link language country  \\\n",
       "4     http://www.imdb.com/title/tt5289954/?ref_=fn_t...      NaN     NaN   \n",
       "276   http://www.imdb.com/title/tt1869849/?ref_=fn_t...      NaN     NaN   \n",
       "2443  http://www.imdb.com/title/tt1842530/?ref_=fn_t...      NaN     USA   \n",
       "3060  http://www.imdb.com/title/tt0473700/?ref_=fn_t...      NaN     USA   \n",
       "3509  http://www.imdb.com/title/tt4061848/?ref_=fn_t...      NaN     USA   \n",
       "3838  http://www.imdb.com/title/tt0075222/?ref_=fn_t...      NaN     USA   \n",
       "4077  http://www.imdb.com/title/tt0785025/?ref_=fn_t...      NaN     USA   \n",
       "4371  http://www.imdb.com/title/tt3082898/?ref_=fn_t...      NaN     USA   \n",
       "4590  http://www.imdb.com/title/tt1604100/?ref_=fn_t...      NaN     USA   \n",
       "4768  http://www.imdb.com/title/tt0006864/?ref_=fn_t...      NaN     USA   \n",
       "4842  http://www.imdb.com/title/tt0015624/?ref_=fn_t...      NaN     USA   \n",
       "4911  http://www.imdb.com/title/tt0011549/?ref_=fn_t...      NaN     USA   \n",
       "\n",
       "          budget release_date  imdb_score  movie_facebook_likes  \n",
       "4            NaN   2055-01-01        12.0                     0  \n",
       "276          NaN   2055-01-01         7.2                     0  \n",
       "2443         NaN          NaT         6.7                     0  \n",
       "3060  11000000.0   2007-01-01         5.8                   411  \n",
       "3509   7000000.0   2014-01-01         6.0                    41  \n",
       "3838   4400000.0   1976-01-01         6.7                   629  \n",
       "4077   3000000.0   2006-01-01         7.2                    76  \n",
       "4371  17000000.0   2016-01-01         9.1                     0  \n",
       "4590   1000000.0   2014-01-01         5.3                   212  \n",
       "4768    385907.0   1916-01-01         8.0                   691  \n",
       "4842    245000.0   1925-01-01         8.3                   226  \n",
       "4911    100000.0   1920-01-01         4.8                     0  "
      ]
     },
     "execution_count": 14,
     "metadata": {},
     "output_type": "execute_result"
    }
   ],
   "source": [
    "df.loc[df['language'].isnull()]"
   ]
  },
  {
   "cell_type": "markdown",
   "id": "a45fb490",
   "metadata": {},
   "source": [
    "#### we can fill null languages according to country, most of the nan's are from US, so, we fill those from US with 'English'"
   ]
  },
  {
   "cell_type": "code",
   "execution_count": 15,
   "id": "2c163e7f",
   "metadata": {},
   "outputs": [],
   "source": [
    "df.loc[(df['country'] == 'USA') & (df['language'].isnull()), 'language'] = 'USA'"
   ]
  },
  {
   "cell_type": "markdown",
   "id": "4e0f18f2",
   "metadata": {},
   "source": [
    "#### Check our changes"
   ]
  },
  {
   "cell_type": "code",
   "execution_count": 16,
   "id": "3593c411",
   "metadata": {},
   "outputs": [
    {
     "data": {
      "text/plain": [
       "color                    19\n",
       "director_name           103\n",
       "duration                  0\n",
       "actor_1_name              7\n",
       "actor_2_name             13\n",
       "genres                    0\n",
       "movie_title               0\n",
       "num_voted_users           0\n",
       "plot_keywords           152\n",
       "movie_imdb_link          13\n",
       "language                  2\n",
       "country                   8\n",
       "budget                  486\n",
       "release_date            103\n",
       "imdb_score                0\n",
       "movie_facebook_likes      0\n",
       "dtype: int64"
      ]
     },
     "execution_count": 16,
     "metadata": {},
     "output_type": "execute_result"
    }
   ],
   "source": [
    "df.isnull().sum()"
   ]
  },
  {
   "cell_type": "markdown",
   "id": "54d47eed",
   "metadata": {},
   "source": [
    "#### Check for non-reasonable data"
   ]
  },
  {
   "cell_type": "code",
   "execution_count": 17,
   "id": "1b1a58f4",
   "metadata": {},
   "outputs": [
    {
     "data": {
      "text/plain": [
       "count    4996.000000\n",
       "mean        6.446617\n",
       "std         1.140157\n",
       "min         1.600000\n",
       "25%         5.800000\n",
       "50%         6.600000\n",
       "75%         7.200000\n",
       "max        16.000000\n",
       "Name: imdb_score, dtype: float64"
      ]
     },
     "execution_count": 17,
     "metadata": {},
     "output_type": "execute_result"
    }
   ],
   "source": [
    "# view 'imdb_score' distribution\n",
    "df['imdb_score'].describe()"
   ]
  },
  {
   "cell_type": "markdown",
   "id": "2201e040",
   "metadata": {},
   "source": [
    "#### it contains scores above 10, that's not valid, so, we drop them"
   ]
  },
  {
   "cell_type": "code",
   "execution_count": 18,
   "id": "aecd1780",
   "metadata": {},
   "outputs": [
    {
     "data": {
      "text/html": [
       "<div>\n",
       "<style scoped>\n",
       "    .dataframe tbody tr th:only-of-type {\n",
       "        vertical-align: middle;\n",
       "    }\n",
       "\n",
       "    .dataframe tbody tr th {\n",
       "        vertical-align: top;\n",
       "    }\n",
       "\n",
       "    .dataframe thead th {\n",
       "        text-align: right;\n",
       "    }\n",
       "</style>\n",
       "<table border=\"1\" class=\"dataframe\">\n",
       "  <thead>\n",
       "    <tr style=\"text-align: right;\">\n",
       "      <th></th>\n",
       "      <th>color</th>\n",
       "      <th>director_name</th>\n",
       "      <th>duration</th>\n",
       "      <th>actor_1_name</th>\n",
       "      <th>actor_2_name</th>\n",
       "      <th>genres</th>\n",
       "      <th>movie_title</th>\n",
       "      <th>num_voted_users</th>\n",
       "      <th>plot_keywords</th>\n",
       "      <th>movie_imdb_link</th>\n",
       "      <th>language</th>\n",
       "      <th>country</th>\n",
       "      <th>budget</th>\n",
       "      <th>release_date</th>\n",
       "      <th>imdb_score</th>\n",
       "      <th>movie_facebook_likes</th>\n",
       "    </tr>\n",
       "  </thead>\n",
       "  <tbody>\n",
       "    <tr>\n",
       "      <th>0</th>\n",
       "      <td>Color</td>\n",
       "      <td>James Cameron</td>\n",
       "      <td>178.0</td>\n",
       "      <td>CCH Pounder</td>\n",
       "      <td>Joel David Moore</td>\n",
       "      <td>Action|Adventure|Fantasy|Sci-Fi</td>\n",
       "      <td>Avatar</td>\n",
       "      <td>886204</td>\n",
       "      <td>avatar|future|marine|native|paraplegic</td>\n",
       "      <td>http://www.imdb.com/title/tt0499549/?ref_=fn_t...</td>\n",
       "      <td>English</td>\n",
       "      <td>USA</td>\n",
       "      <td>237000000.0</td>\n",
       "      <td>2009-01-01</td>\n",
       "      <td>7.9</td>\n",
       "      <td>33000</td>\n",
       "    </tr>\n",
       "    <tr>\n",
       "      <th>1</th>\n",
       "      <td>Color</td>\n",
       "      <td>Sam Mendes</td>\n",
       "      <td>148.0</td>\n",
       "      <td>Christoph Waltz</td>\n",
       "      <td>Rory Kinnear</td>\n",
       "      <td>Action|Adventure|Thriller</td>\n",
       "      <td>Spectre</td>\n",
       "      <td>275868</td>\n",
       "      <td>bomb|espionage|sequel|spy|terrorist</td>\n",
       "      <td>http://www.imdb.com/title/tt2379713/?ref_=fn_t...</td>\n",
       "      <td>English</td>\n",
       "      <td>UK</td>\n",
       "      <td>245000000.0</td>\n",
       "      <td>2015-01-01</td>\n",
       "      <td>6.8</td>\n",
       "      <td>85000</td>\n",
       "    </tr>\n",
       "    <tr>\n",
       "      <th>2</th>\n",
       "      <td>Color</td>\n",
       "      <td>Christopher Nolan</td>\n",
       "      <td>164.0</td>\n",
       "      <td>Tom Hardy</td>\n",
       "      <td>Christian Bale</td>\n",
       "      <td>Action|Thriller</td>\n",
       "      <td>The Dark Knight Rises</td>\n",
       "      <td>1144337</td>\n",
       "      <td>deception|imprisonment|lawlessness|police offi...</td>\n",
       "      <td>http://www.imdb.com/title/tt1345836/?ref_=fn_t...</td>\n",
       "      <td>English</td>\n",
       "      <td>USA</td>\n",
       "      <td>250000000.0</td>\n",
       "      <td>2012-01-01</td>\n",
       "      <td>8.5</td>\n",
       "      <td>164000</td>\n",
       "    </tr>\n",
       "    <tr>\n",
       "      <th>3</th>\n",
       "      <td>Color</td>\n",
       "      <td>Andrew Stanton</td>\n",
       "      <td>132.0</td>\n",
       "      <td>Daryl Sabara</td>\n",
       "      <td>Samantha Morton</td>\n",
       "      <td>Action|Adventure|Sci-Fi</td>\n",
       "      <td>John Carter</td>\n",
       "      <td>212204</td>\n",
       "      <td>alien|american civil war|male nipple|mars|prin...</td>\n",
       "      <td>http://www.imdb.com/title/tt0401729/?ref_=fn_t...</td>\n",
       "      <td>English</td>\n",
       "      <td>USA</td>\n",
       "      <td>263700000.0</td>\n",
       "      <td>2012-01-01</td>\n",
       "      <td>6.6</td>\n",
       "      <td>24000</td>\n",
       "    </tr>\n",
       "    <tr>\n",
       "      <th>4</th>\n",
       "      <td>Color</td>\n",
       "      <td>Nathan Greno</td>\n",
       "      <td>100.0</td>\n",
       "      <td>Brad Garrett</td>\n",
       "      <td>Donna Murphy</td>\n",
       "      <td>Adventure|Animation|Comedy|Family|Fantasy|Musi...</td>\n",
       "      <td>Tangled</td>\n",
       "      <td>294810</td>\n",
       "      <td>17th century|based on fairy tale|disney|flower...</td>\n",
       "      <td>http://www.imdb.com/title/tt0398286/?ref_=fn_t...</td>\n",
       "      <td>English</td>\n",
       "      <td>USA</td>\n",
       "      <td>260000000.0</td>\n",
       "      <td>2010-01-01</td>\n",
       "      <td>7.8</td>\n",
       "      <td>29000</td>\n",
       "    </tr>\n",
       "  </tbody>\n",
       "</table>\n",
       "</div>"
      ],
      "text/plain": [
       "   color      director_name  duration     actor_1_name      actor_2_name  \\\n",
       "0  Color      James Cameron     178.0      CCH Pounder  Joel David Moore   \n",
       "1  Color         Sam Mendes     148.0  Christoph Waltz      Rory Kinnear   \n",
       "2  Color  Christopher Nolan     164.0        Tom Hardy    Christian Bale   \n",
       "3  Color     Andrew Stanton     132.0     Daryl Sabara   Samantha Morton   \n",
       "4  Color       Nathan Greno     100.0     Brad Garrett      Donna Murphy   \n",
       "\n",
       "                                              genres             movie_title  \\\n",
       "0                    Action|Adventure|Fantasy|Sci-Fi                 Avatar    \n",
       "1                          Action|Adventure|Thriller                Spectre    \n",
       "2                                    Action|Thriller  The Dark Knight Rises    \n",
       "3                            Action|Adventure|Sci-Fi            John Carter    \n",
       "4  Adventure|Animation|Comedy|Family|Fantasy|Musi...                Tangled    \n",
       "\n",
       "   num_voted_users                                      plot_keywords  \\\n",
       "0           886204             avatar|future|marine|native|paraplegic   \n",
       "1           275868                bomb|espionage|sequel|spy|terrorist   \n",
       "2          1144337  deception|imprisonment|lawlessness|police offi...   \n",
       "3           212204  alien|american civil war|male nipple|mars|prin...   \n",
       "4           294810  17th century|based on fairy tale|disney|flower...   \n",
       "\n",
       "                                     movie_imdb_link language country  \\\n",
       "0  http://www.imdb.com/title/tt0499549/?ref_=fn_t...  English     USA   \n",
       "1  http://www.imdb.com/title/tt2379713/?ref_=fn_t...  English      UK   \n",
       "2  http://www.imdb.com/title/tt1345836/?ref_=fn_t...  English     USA   \n",
       "3  http://www.imdb.com/title/tt0401729/?ref_=fn_t...  English     USA   \n",
       "4  http://www.imdb.com/title/tt0398286/?ref_=fn_t...  English     USA   \n",
       "\n",
       "        budget release_date  imdb_score  movie_facebook_likes  \n",
       "0  237000000.0   2009-01-01         7.9                 33000  \n",
       "1  245000000.0   2015-01-01         6.8                 85000  \n",
       "2  250000000.0   2012-01-01         8.5                164000  \n",
       "3  263700000.0   2012-01-01         6.6                 24000  \n",
       "4  260000000.0   2010-01-01         7.8                 29000  "
      ]
     },
     "execution_count": 18,
     "metadata": {},
     "output_type": "execute_result"
    }
   ],
   "source": [
    "# select just scores less or equal to 10, and fix index\n",
    "df = df[ df['imdb_score']<=10 ]\n",
    "df.reset_index(inplace=True, drop=True)\n",
    "df.head()"
   ]
  },
  {
   "cell_type": "code",
   "execution_count": 19,
   "id": "223f096a",
   "metadata": {},
   "outputs": [
    {
     "data": {
      "text/plain": [
       "count    4992.000000\n",
       "mean        6.441366\n",
       "std         1.124344\n",
       "min         1.600000\n",
       "25%         5.800000\n",
       "50%         6.600000\n",
       "75%         7.200000\n",
       "max         9.500000\n",
       "Name: imdb_score, dtype: float64"
      ]
     },
     "execution_count": 19,
     "metadata": {},
     "output_type": "execute_result"
    }
   ],
   "source": [
    "# check our changes\n",
    "df['imdb_score'].describe()"
   ]
  },
  {
   "cell_type": "markdown",
   "id": "9ebaff9e",
   "metadata": {},
   "source": [
    "## Exploratory Data Analysis"
   ]
  },
  {
   "cell_type": "markdown",
   "id": "6f35d4af",
   "metadata": {},
   "source": [
    "### Q1: What are the directors that have the lowest and highest mean budget-to-score ratio?"
   ]
  },
  {
   "cell_type": "code",
   "execution_count": 20,
   "id": "c599c56b",
   "metadata": {},
   "outputs": [],
   "source": [
    "# ensure that all director names are clear from mis-typing\n",
    "df['director_name'] = df['director_name'].str.strip().str.title()"
   ]
  },
  {
   "cell_type": "code",
   "execution_count": 21,
   "id": "86e226de",
   "metadata": {},
   "outputs": [
    {
     "data": {
      "text/plain": [
       "count    4.507000e+03\n",
       "mean     6.174934e+03\n",
       "std      2.932010e+04\n",
       "min      3.027778e-02\n",
       "25%      9.427126e+02\n",
       "50%      3.061224e+03\n",
       "75%      7.142857e+03\n",
       "max      1.745071e+06\n",
       "Name: budget_to_score, dtype: float64"
      ]
     },
     "execution_count": 21,
     "metadata": {},
     "output_type": "execute_result"
    }
   ],
   "source": [
    "# create new column by dividing budget over score, and set it in ($K/point)\n",
    "df['budget_to_score'] = ( df['budget']/df['imdb_score'] ) / 1e+03\n",
    "\n",
    "# view its distribution\n",
    "df['budget_to_score'].describe()"
   ]
  },
  {
   "cell_type": "code",
   "execution_count": 22,
   "id": "02ff4a39",
   "metadata": {},
   "outputs": [
    {
     "data": {
      "text/plain": [
       "director_name\n",
       "Joon-Ho Bong         875335.714286\n",
       "Lajos Koltai         352112.676056\n",
       "Katsuhiro Ôtomo      222069.343119\n",
       "Chan-Wook Park       182525.464731\n",
       "Takao Okawara        166666.666667\n",
       "                         ...      \n",
       "Neill Dela Llana          1.111111\n",
       "Shane Carruth             1.000000\n",
       "Anthony Vallone           0.416667\n",
       "Benjamin Roberds          0.222222\n",
       "Jonathan Caouette         0.030278\n",
       "Name: budget_to_score, Length: 2174, dtype: float64"
      ]
     },
     "execution_count": 22,
     "metadata": {},
     "output_type": "execute_result"
    }
   ],
   "source": [
    "# get the average 'budget_to_score' per director, and sort them descendingly\n",
    "data = df.groupby('director_name')['budget_to_score'].mean().dropna()\n",
    "data.sort_values(inplace=True, ascending=False)\n",
    "data"
   ]
  },
  {
   "cell_type": "code",
   "execution_count": 23,
   "id": "cc08e9b0",
   "metadata": {},
   "outputs": [],
   "source": [
    "# just pick the lowest 3 and highest 3 directors\n",
    "data_high = data.iloc[:3]\n",
    "data_low = data.iloc[-3:]"
   ]
  },
  {
   "cell_type": "code",
   "execution_count": 24,
   "id": "f5bc8b6c",
   "metadata": {},
   "outputs": [
    {
     "data": {
      "image/png": "[encoded data removed]",
      "text/plain": [
       "<Figure size 432x432 with 1 Axes>"
      ]
     },
     "metadata": {
      "needs_background": "light"
     },
     "output_type": "display_data"
    }
   ],
   "source": [
    "# plot the highest 3 directors\n",
    "plt.figure(figsize=(6,6))\n",
    "plt.barh(data_high.index, data_high.values, height=0.5)\n",
    "plt.ylabel('Directors', fontdict={'fontsize':12})\n",
    "plt.xlabel('Mean budget-to-score ratio (in $K/point)', fontdict={'fontsize':12})\n",
    "plt.title('The Highest 3 Directors w.r.t. Mean budget-to-score ratio', fontdict={'fontsize':15})\n",
    "\n",
    "# add value of each bar next to it\n",
    "for i,v in enumerate(data_high):\n",
    "    plt.text(v+1e+4,i-0.025, str(round(v)), fontdict={'fontsize':12})\n",
    "\n",
    "plt.show()"
   ]
  },
  {
   "cell_type": "code",
   "execution_count": 25,
   "id": "f0caf2c3",
   "metadata": {},
   "outputs": [
    {
     "data": {
      "image/png": "[encoded data removed]",
      "text/plain": [
       "<Figure size 432x432 with 1 Axes>"
      ]
     },
     "metadata": {
      "needs_background": "light"
     },
     "output_type": "display_data"
    }
   ],
   "source": [
    "# plot the lowest 3 directors\n",
    "plt.figure(figsize=(6,6))\n",
    "plt.barh(data_low.index, data_low.values, height=0.5)\n",
    "plt.ylabel('Directors', fontdict={'fontsize':12})\n",
    "plt.xlabel('Mean budget-to-score ratio (in $K/point)', fontdict={'fontsize':12})\n",
    "plt.title('The Lowest 3 Directors w.r.t. Mean budget-to-score ratio', fontdict={'fontsize':15})\n",
    "\n",
    "# add value of each bar next to it\n",
    "for i,v in enumerate(data_low):\n",
    "    plt.text(v+0.01,i-0.025, str(round(v,3)), fontdict={'fontsize':12})\n",
    "\n",
    "plt.show()"
   ]
  },
  {
   "cell_type": "markdown",
   "id": "ca1dfa64",
   "metadata": {},
   "source": [
    "### Q2: Do people give higher scores to movies with longer or shorter duration?"
   ]
  },
  {
   "cell_type": "code",
   "execution_count": 26,
   "id": "4247638d",
   "metadata": {},
   "outputs": [
    {
     "data": {
      "text/html": [
       "<div>\n",
       "<style scoped>\n",
       "    .dataframe tbody tr th:only-of-type {\n",
       "        vertical-align: middle;\n",
       "    }\n",
       "\n",
       "    .dataframe tbody tr th {\n",
       "        vertical-align: top;\n",
       "    }\n",
       "\n",
       "    .dataframe thead th {\n",
       "        text-align: right;\n",
       "    }\n",
       "</style>\n",
       "<table border=\"1\" class=\"dataframe\">\n",
       "  <thead>\n",
       "    <tr style=\"text-align: right;\">\n",
       "      <th></th>\n",
       "      <th>color</th>\n",
       "      <th>director_name</th>\n",
       "      <th>duration</th>\n",
       "      <th>actor_1_name</th>\n",
       "      <th>actor_2_name</th>\n",
       "      <th>genres</th>\n",
       "      <th>movie_title</th>\n",
       "      <th>num_voted_users</th>\n",
       "      <th>plot_keywords</th>\n",
       "      <th>movie_imdb_link</th>\n",
       "      <th>language</th>\n",
       "      <th>country</th>\n",
       "      <th>budget</th>\n",
       "      <th>release_date</th>\n",
       "      <th>imdb_score</th>\n",
       "      <th>movie_facebook_likes</th>\n",
       "      <th>budget_to_score</th>\n",
       "    </tr>\n",
       "  </thead>\n",
       "  <tbody>\n",
       "    <tr>\n",
       "      <th>0</th>\n",
       "      <td>Color</td>\n",
       "      <td>James Cameron</td>\n",
       "      <td>178.0</td>\n",
       "      <td>CCH Pounder</td>\n",
       "      <td>Joel David Moore</td>\n",
       "      <td>Action|Adventure|Fantasy|Sci-Fi</td>\n",
       "      <td>Avatar</td>\n",
       "      <td>886204</td>\n",
       "      <td>avatar|future|marine|native|paraplegic</td>\n",
       "      <td>http://www.imdb.com/title/tt0499549/?ref_=fn_t...</td>\n",
       "      <td>English</td>\n",
       "      <td>USA</td>\n",
       "      <td>237000000.0</td>\n",
       "      <td>2009-01-01</td>\n",
       "      <td>7.9</td>\n",
       "      <td>33000</td>\n",
       "      <td>30000.000000</td>\n",
       "    </tr>\n",
       "    <tr>\n",
       "      <th>1</th>\n",
       "      <td>Color</td>\n",
       "      <td>Sam Mendes</td>\n",
       "      <td>148.0</td>\n",
       "      <td>Christoph Waltz</td>\n",
       "      <td>Rory Kinnear</td>\n",
       "      <td>Action|Adventure|Thriller</td>\n",
       "      <td>Spectre</td>\n",
       "      <td>275868</td>\n",
       "      <td>bomb|espionage|sequel|spy|terrorist</td>\n",
       "      <td>http://www.imdb.com/title/tt2379713/?ref_=fn_t...</td>\n",
       "      <td>English</td>\n",
       "      <td>UK</td>\n",
       "      <td>245000000.0</td>\n",
       "      <td>2015-01-01</td>\n",
       "      <td>6.8</td>\n",
       "      <td>85000</td>\n",
       "      <td>36029.411765</td>\n",
       "    </tr>\n",
       "    <tr>\n",
       "      <th>2</th>\n",
       "      <td>Color</td>\n",
       "      <td>Christopher Nolan</td>\n",
       "      <td>164.0</td>\n",
       "      <td>Tom Hardy</td>\n",
       "      <td>Christian Bale</td>\n",
       "      <td>Action|Thriller</td>\n",
       "      <td>The Dark Knight Rises</td>\n",
       "      <td>1144337</td>\n",
       "      <td>deception|imprisonment|lawlessness|police offi...</td>\n",
       "      <td>http://www.imdb.com/title/tt1345836/?ref_=fn_t...</td>\n",
       "      <td>English</td>\n",
       "      <td>USA</td>\n",
       "      <td>250000000.0</td>\n",
       "      <td>2012-01-01</td>\n",
       "      <td>8.5</td>\n",
       "      <td>164000</td>\n",
       "      <td>29411.764706</td>\n",
       "    </tr>\n",
       "  </tbody>\n",
       "</table>\n",
       "</div>"
      ],
      "text/plain": [
       "   color      director_name  duration     actor_1_name      actor_2_name  \\\n",
       "0  Color      James Cameron     178.0      CCH Pounder  Joel David Moore   \n",
       "1  Color         Sam Mendes     148.0  Christoph Waltz      Rory Kinnear   \n",
       "2  Color  Christopher Nolan     164.0        Tom Hardy    Christian Bale   \n",
       "\n",
       "                            genres             movie_title  num_voted_users  \\\n",
       "0  Action|Adventure|Fantasy|Sci-Fi                 Avatar            886204   \n",
       "1        Action|Adventure|Thriller                Spectre            275868   \n",
       "2                  Action|Thriller  The Dark Knight Rises           1144337   \n",
       "\n",
       "                                       plot_keywords  \\\n",
       "0             avatar|future|marine|native|paraplegic   \n",
       "1                bomb|espionage|sequel|spy|terrorist   \n",
       "2  deception|imprisonment|lawlessness|police offi...   \n",
       "\n",
       "                                     movie_imdb_link language country  \\\n",
       "0  http://www.imdb.com/title/tt0499549/?ref_=fn_t...  English     USA   \n",
       "1  http://www.imdb.com/title/tt2379713/?ref_=fn_t...  English      UK   \n",
       "2  http://www.imdb.com/title/tt1345836/?ref_=fn_t...  English     USA   \n",
       "\n",
       "        budget release_date  imdb_score  movie_facebook_likes  budget_to_score  \n",
       "0  237000000.0   2009-01-01         7.9                 33000     30000.000000  \n",
       "1  245000000.0   2015-01-01         6.8                 85000     36029.411765  \n",
       "2  250000000.0   2012-01-01         8.5                164000     29411.764706  "
      ]
     },
     "execution_count": 26,
     "metadata": {},
     "output_type": "execute_result"
    }
   ],
   "source": [
    "# get a slice of our data, cleared from null values on the 'duration' column\n",
    "data = df.dropna(subset=['duration']).reset_index(drop=True)\n",
    "data.head(3)"
   ]
  },
  {
   "cell_type": "code",
   "execution_count": 27,
   "id": "dc416410",
   "metadata": {},
   "outputs": [
    {
     "data": {
      "image/png": "[encoded data removed]",
      "text/plain": [
       "<Figure size 576x576 with 1 Axes>"
      ]
     },
     "metadata": {
      "needs_background": "light"
     },
     "output_type": "display_data"
    }
   ],
   "source": [
    "# plot a scatter between the two variable to explore the relation\n",
    "plt.figure(figsize=(8,8))\n",
    "plt.scatter(data['duration'], data['imdb_score'])\n",
    "\n",
    "\n",
    "plt.ylabel('IMDB Score', fontdict={'fontsize':12})\n",
    "plt.xlabel('Movie Duration (in min.)', fontdict={'fontsize':12})\n",
    "plt.title('IMDB Score vs. Movie Duration', fontdict={'fontsize':15})\n",
    "\n",
    "plt.show()"
   ]
  },
  {
   "cell_type": "markdown",
   "id": "1e7bbc7e",
   "metadata": {},
   "source": [
    "#### there is no significant relation between them, but also scores are getting less variate and tend to be high as duration increases, so, let's take a look at different visual"
   ]
  },
  {
   "cell_type": "code",
   "execution_count": 28,
   "id": "7f2a963a",
   "metadata": {},
   "outputs": [],
   "source": [
    "# create 20-minute-intervals start and end to plot a bar chart\n",
    "ranges = np.arange(0, 521, 20)\n",
    "means = []\n",
    "\n",
    "# get each interval mean 'imdb_score'\n",
    "for i,v in enumerate(ranges[:-1]):\n",
    "    condition = (data['duration'] >= v) & (data['duration'] < ranges[i+1])\n",
    "    means.append( data.loc[condition]['imdb_score'].mean() )"
   ]
  },
  {
   "cell_type": "code",
   "execution_count": 29,
   "id": "41cca4a9",
   "metadata": {},
   "outputs": [
    {
     "data": {
      "image/png": "[encoded data removed]",
      "text/plain": [
       "<Figure size 576x576 with 1 Axes>"
      ]
     },
     "metadata": {
      "needs_background": "light"
     },
     "output_type": "display_data"
    }
   ],
   "source": [
    "# plot what we got\n",
    "plt.figure(figsize=(8,8))\n",
    "plt.bar(ranges[1:], means, width=-20, align='edge')\n",
    "\n",
    "plt.ylabel('Mean IMDB Score', fontdict={'fontsize':12})\n",
    "plt.xlabel('Movie Duration Intervals (of width 20 min.)', fontdict={'fontsize':12})\n",
    "plt.title('Mean IMDB Score vs. Movie Duration Intervals', fontdict={'fontsize':15})\n",
    "\n",
    "plt.show()"
   ]
  },
  {
   "cell_type": "markdown",
   "id": "2f784499",
   "metadata": {},
   "source": [
    "#### It also shows no significant variation of scores as duration decreases or increases"
   ]
  },
  {
   "cell_type": "markdown",
   "id": "c77039b2",
   "metadata": {},
   "source": [
    "### Q3: Which year had the highest budget spent on movies and what are those movies?"
   ]
  },
  {
   "cell_type": "code",
   "execution_count": 30,
   "id": "e44c5779",
   "metadata": {},
   "outputs": [
    {
     "data": {
      "text/plain": [
       "count    4889.000000\n",
       "mean     2002.495602\n",
       "std        12.543706\n",
       "min      1916.000000\n",
       "25%      1999.000000\n",
       "50%      2005.000000\n",
       "75%      2011.000000\n",
       "max      2055.000000\n",
       "Name: year, dtype: float64"
      ]
     },
     "execution_count": 30,
     "metadata": {},
     "output_type": "execute_result"
    }
   ],
   "source": [
    "# create new column containing year extracted from 'release_date' column\n",
    "df['year'] = df['release_date'].dt.year\n",
    "\n",
    "# view 'year' column distribution\n",
    "df['year'].describe()"
   ]
  },
  {
   "cell_type": "markdown",
   "id": "a6fccda5",
   "metadata": {},
   "source": [
    "#### it contains years in the future, it's not valid, so, we drop years after 2020"
   ]
  },
  {
   "cell_type": "code",
   "execution_count": 31,
   "id": "6a5bb18d",
   "metadata": {},
   "outputs": [
    {
     "data": {
      "text/plain": [
       "count    4886.000000\n",
       "mean     2002.463365\n",
       "std        12.479871\n",
       "min      1916.000000\n",
       "25%      1999.000000\n",
       "50%      2005.000000\n",
       "75%      2011.000000\n",
       "max      2016.000000\n",
       "Name: year, dtype: float64"
      ]
     },
     "execution_count": 31,
     "metadata": {},
     "output_type": "execute_result"
    }
   ],
   "source": [
    "# select just years below 2020\n",
    "df = df.loc[ df['year']<=2020 ].reset_index(drop=True)\n",
    "\n",
    "# check our changes\n",
    "df['year'].describe()"
   ]
  },
  {
   "cell_type": "code",
   "execution_count": 32,
   "id": "a80eb1a5",
   "metadata": {},
   "outputs": [],
   "source": [
    "# get a slice of our data free of null values on 'year' and 'budget' columns\n",
    "data = df.dropna(subset=['year', 'budget']).reset_index(drop=True)\n",
    "\n",
    "# convert 'year' dtype from float to int\n",
    "data['year'] = data['year'].astype(int)"
   ]
  },
  {
   "cell_type": "code",
   "execution_count": 33,
   "id": "66d1aad9",
   "metadata": {},
   "outputs": [
    {
     "data": {
      "text/plain": [
       "75"
      ]
     },
     "execution_count": 33,
     "metadata": {},
     "output_type": "execute_result"
    }
   ],
   "source": [
    "# check duplicated movie titles\n",
    "data['movie_title'].duplicated().sum()"
   ]
  },
  {
   "cell_type": "code",
   "execution_count": 34,
   "id": "2a186659",
   "metadata": {},
   "outputs": [
    {
     "data": {
      "text/plain": [
       "0"
      ]
     },
     "execution_count": 34,
     "metadata": {},
     "output_type": "execute_result"
    }
   ],
   "source": [
    "# we can not have different data for the same movie, so, we drop duplicates\n",
    "data.drop_duplicates(subset='movie_title', inplace=True, ignore_index=True)\n",
    "\n",
    "# check our changes\n",
    "data['movie_title'].duplicated().sum()"
   ]
  },
  {
   "cell_type": "code",
   "execution_count": 35,
   "id": "5854543a",
   "metadata": {},
   "outputs": [
    {
     "data": {
      "text/plain": [
       "year\n",
       "2005    68.968482\n",
       "1997    59.947150\n",
       "2016    53.169828\n",
       "1988    50.230000\n",
       "2004    46.894594\n",
       "          ...    \n",
       "1929     0.379000\n",
       "1934     0.325000\n",
       "1933     0.319500\n",
       "1925     0.245000\n",
       "1920     0.100000\n",
       "Name: budget, Length: 91, dtype: float64"
      ]
     },
     "execution_count": 35,
     "metadata": {},
     "output_type": "execute_result"
    }
   ],
   "source": [
    "# we create a Series of mean budget per each year, sorted descendingly\n",
    "sorted_budgets = data.groupby('year')['budget'].mean().sort_values(ascending=False)\n",
    "\n",
    "# set budgets to be in $M\n",
    "sorted_budgets /= 1e+6\n",
    "\n",
    "sorted_budgets"
   ]
  },
  {
   "cell_type": "code",
   "execution_count": 36,
   "id": "822c3b98",
   "metadata": {},
   "outputs": [
    {
     "data": {
      "image/png": "[encoded data removed]",
      "text/plain": [
       "<Figure size 576x576 with 1 Axes>"
      ]
     },
     "metadata": {
      "needs_background": "light"
     },
     "output_type": "display_data"
    }
   ],
   "source": [
    "# plot what we got\n",
    "plt.figure(figsize=(8,8))\n",
    "plt.bar(sorted_budgets.index, sorted_budgets.values)\n",
    "\n",
    "plt.ylabel('Mean Budget of all movies (in $M)', fontdict={'fontsize':12})\n",
    "plt.xlabel('Years', fontdict={'fontsize':12})\n",
    "plt.title('Mean Budget of movies for each Year', fontdict={'fontsize':15})\n",
    "\n",
    "# add year and mean budget value above the highest bar for indication\n",
    "x= sorted_budgets.index[0]\n",
    "y=sorted_budgets.values[0]\n",
    "plt.text(x-8, y+1, f'({x}, {round(y,1)})')\n",
    "\n",
    "plt.show()"
   ]
  },
  {
   "cell_type": "markdown",
   "id": "906d4f52",
   "metadata": {},
   "source": [
    "#### 2005 seems to be the year we search for, let's look at its movies"
   ]
  },
  {
   "cell_type": "code",
   "execution_count": 37,
   "id": "1a7c0f09",
   "metadata": {},
   "outputs": [],
   "source": [
    "# get a slice of our data of only year 2005\n",
    "bar_df = data.loc[ data['year']==2005 ].reset_index(drop=True)"
   ]
  },
  {
   "cell_type": "code",
   "execution_count": 38,
   "id": "5fb74548",
   "metadata": {},
   "outputs": [
    {
     "data": {
      "text/plain": [
       "198"
      ]
     },
     "execution_count": 38,
     "metadata": {},
     "output_type": "execute_result"
    }
   ],
   "source": [
    "# count number of movies in 2005\n",
    "bar_df['movie_title'].nunique()"
   ]
  },
  {
   "cell_type": "code",
   "execution_count": 39,
   "id": "5608dd22",
   "metadata": {},
   "outputs": [
    {
     "data": {
      "text/plain": [
       "5"
      ]
     },
     "execution_count": 39,
     "metadata": {},
     "output_type": "execute_result"
    }
   ],
   "source": [
    "# they are many to plot, so, we get just their top 5\n",
    "bar_df = bar_df.sort_values(by='budget', ascending=False, ignore_index=True).iloc[:5]\n",
    "bar_df['movie_title'].nunique()"
   ]
  },
  {
   "cell_type": "code",
   "execution_count": 40,
   "id": "2f5ca3a8",
   "metadata": {},
   "outputs": [],
   "source": [
    "# set budget to be in $M\n",
    "bar_df['budget'] /= 1e+6"
   ]
  },
  {
   "cell_type": "code",
   "execution_count": 41,
   "id": "e6b2969e",
   "metadata": {},
   "outputs": [
    {
     "data": {
      "image/png": "[encoded data removed]",
      "text/plain": [
       "<Figure size 720x720 with 1 Axes>"
      ]
     },
     "metadata": {
      "needs_background": "light"
     },
     "output_type": "display_data"
    }
   ],
   "source": [
    "# plot what we got\n",
    "plt.figure(figsize=(10,10))\n",
    "plt.barh(bar_df['movie_title'], bar_df['budget'])\n",
    "\n",
    "plt.ylabel('Movie Title', fontdict={'fontsize':12})\n",
    "plt.xlabel('Budget (in $M)', fontdict={'fontsize':12})\n",
    "plt.title('Top 5 Movie Budgets of Year 2005', fontdict={'fontsize':15})\n",
    "\n",
    "plt.show()"
   ]
  },
  {
   "cell_type": "markdown",
   "id": "25f4bf39",
   "metadata": {},
   "source": [
    "### Q4: Which two actors worked together in movies most?"
   ]
  },
  {
   "cell_type": "code",
   "execution_count": 42,
   "id": "0df478d7",
   "metadata": {},
   "outputs": [],
   "source": [
    "# ensure that actors names free from mis-typing\n",
    "df['actor_1_name'] = df['actor_1_name'].str.strip().str.title()\n",
    "df['actor_2_name'] = df['actor_2_name'].str.strip().str.title()"
   ]
  },
  {
   "cell_type": "code",
   "execution_count": 43,
   "id": "a3bbdde5",
   "metadata": {},
   "outputs": [],
   "source": [
    "# get slice of our data free of null values on the two actors columns\n",
    "data = df.dropna(subset=['actor_1_name', 'actor_2_name']).reset_index(drop=True)"
   ]
  },
  {
   "cell_type": "code",
   "execution_count": 44,
   "id": "5b40c9bf",
   "metadata": {},
   "outputs": [],
   "source": [
    "# create a list to carry combined names of actor1 and actor2\n",
    "combined = []\n",
    "\n",
    "# combine them in alphabetical order\n",
    "for i,j in zip(data['actor_1_name'],data['actor_2_name']):\n",
    "    if i < j: combined.append(i+' - '+j)\n",
    "    else: combined.append(j+' - '+i)\n",
    "\n",
    "# create a new column of combined names\n",
    "data['combined_actors'] = pd.Series(combined)"
   ]
  },
  {
   "cell_type": "code",
   "execution_count": 45,
   "id": "5aafd346",
   "metadata": {},
   "outputs": [
    {
     "data": {
      "text/plain": [
       "Adam Sandler - Steve Buscemi        6\n",
       "Leonard Nimoy - Nichelle Nichols    4\n",
       "Bruce Willis - Morgan Freeman       3\n",
       "John Ratzenberger - Tom Hanks       3\n",
       "Alan Rickman - Johnny Depp          3\n",
       "                                   ..\n",
       "Aldis Hodge - Neil Brown Jr.        1\n",
       "Amrish Puri - Harrison Ford         1\n",
       "Billy Burke - Morgan Freeman        1\n",
       "Meryl Streep - Nina Arianda         1\n",
       "Brian Herzlinger - John August      1\n",
       "Name: combined_actors, Length: 4683, dtype: int64"
      ]
     },
     "execution_count": 45,
     "metadata": {},
     "output_type": "execute_result"
    }
   ],
   "source": [
    "# get frequency of each unique combination of actors, sorted descindingly\n",
    "data['combined_actors'].value_counts()"
   ]
  },
  {
   "cell_type": "code",
   "execution_count": 46,
   "id": "56c7c88b",
   "metadata": {},
   "outputs": [
    {
     "data": {
      "text/plain": [
       "Adam Sandler - Steve Buscemi        6\n",
       "Leonard Nimoy - Nichelle Nichols    4\n",
       "Bruce Willis - Morgan Freeman       3\n",
       "John Ratzenberger - Tom Hanks       3\n",
       "Alan Rickman - Johnny Depp          3\n",
       "Name: combined_actors, dtype: int64"
      ]
     },
     "execution_count": 46,
     "metadata": {},
     "output_type": "execute_result"
    }
   ],
   "source": [
    "# we just take the top 5 frequent combination\n",
    "df_bar = data['combined_actors'].value_counts().iloc[:5]\n",
    "df_bar"
   ]
  },
  {
   "cell_type": "code",
   "execution_count": 47,
   "id": "545379b6",
   "metadata": {},
   "outputs": [
    {
     "data": {
      "image/png": "[encoded data removed]",
      "text/plain": [
       "<Figure size 576x576 with 1 Axes>"
      ]
     },
     "metadata": {
      "needs_background": "light"
     },
     "output_type": "display_data"
    }
   ],
   "source": [
    "# plot what we got\n",
    "plt.figure(figsize=(8,8))\n",
    "plt.barh(df_bar.index, df_bar.values)\n",
    "\n",
    "plt.ylabel('Combined Actors Names', fontdict={'fontsize':12})\n",
    "plt.xlabel('Number of Movies they made together', fontdict={'fontsize':12})\n",
    "plt.title('Most 5 Frequent combination of Two Actors across Movies', fontdict={'fontsize':15})\n",
    "\n",
    "plt.show()"
   ]
  },
  {
   "cell_type": "markdown",
   "id": "85e32580",
   "metadata": {},
   "source": [
    "### Q5: Who are the top 3 actors Steven Spielberg favors most as main actors?"
   ]
  },
  {
   "cell_type": "code",
   "execution_count": 48,
   "id": "c5dbbaca",
   "metadata": {},
   "outputs": [
    {
     "data": {
      "text/plain": [
       "Harrison Ford           4\n",
       "Tom Hanks               3\n",
       "Tom Cruise              2\n",
       "Wayne Knight            1\n",
       "Roy Scheider            1\n",
       "Oprah Winfrey           1\n",
       "Bob Balaban             1\n",
       "Liam Neeson             1\n",
       "Christopher Lee         1\n",
       "Anthony Hopkins         1\n",
       "Leonardo Dicaprio       1\n",
       "Joseph Gordon-Levitt    1\n",
       "Mark Rylance            1\n",
       "Jeremy Irvine           1\n",
       "Robin Williams          1\n",
       "Ayelet Zurer            1\n",
       "Ariana Richards         1\n",
       "Haley Joel Osment       1\n",
       "Toby Jones              1\n",
       "Henry Thomas            1\n",
       "Name: actor_1_name, dtype: int64"
      ]
     },
     "execution_count": 48,
     "metadata": {},
     "output_type": "execute_result"
    }
   ],
   "source": [
    "# get the data of only director 'Steven Spielberg' and free from null values on 'actor_1_name' column\n",
    "data = df[ df['director_name'] == 'Steven Spielberg' ].dropna(subset=['actor_1_name']).reset_index(drop=True)\n",
    "\n",
    "# count each director frequency with our director\n",
    "data['actor_1_name'].value_counts()"
   ]
  },
  {
   "cell_type": "markdown",
   "id": "c59b5238",
   "metadata": {},
   "source": [
    "#### just 3 actors that are more frequent than others, we take just them"
   ]
  },
  {
   "cell_type": "code",
   "execution_count": 49,
   "id": "26450e66",
   "metadata": {},
   "outputs": [
    {
     "data": {
      "text/plain": [
       "Harrison Ford    4\n",
       "Tom Hanks        3\n",
       "Tom Cruise       2\n",
       "Name: actor_1_name, dtype: int64"
      ]
     },
     "execution_count": 49,
     "metadata": {},
     "output_type": "execute_result"
    }
   ],
   "source": [
    "# get the top 3 actors\n",
    "df_bar = data['actor_1_name'].value_counts().iloc[:3]\n",
    "df_bar"
   ]
  },
  {
   "cell_type": "code",
   "execution_count": 50,
   "id": "221704a4",
   "metadata": {},
   "outputs": [
    {
     "data": {
      "image/png": "[encoded data removed]",
      "text/plain": [
       "<Figure size 576x576 with 1 Axes>"
      ]
     },
     "metadata": {
      "needs_background": "light"
     },
     "output_type": "display_data"
    }
   ],
   "source": [
    "# plot what we got\n",
    "plt.figure(figsize=(8,8))\n",
    "plt.barh(df_bar.index, df_bar.values)\n",
    "\n",
    "plt.ylabel('Actor Name', fontdict={'fontsize':12})\n",
    "plt.xlabel('Number of Movies made with Steven Spielberg', fontdict={'fontsize':12})\n",
    "plt.title('Most 3 Frequent Main Actors with Director Steven Spielberg', fontdict={'fontsize':15})\n",
    "plt.xticks(range(0,5))\n",
    "\n",
    "plt.show()"
   ]
  },
  {
   "cell_type": "markdown",
   "id": "256f98a6",
   "metadata": {},
   "source": [
    "### Q6: Do movies with high budget usually have high scores?"
   ]
  },
  {
   "cell_type": "code",
   "execution_count": 51,
   "id": "ea6cafbe",
   "metadata": {},
   "outputs": [],
   "source": [
    "# get slice of data free of null values on 'budget' and 'imdb_score' columns\n",
    "data = df.dropna(subset=['budget', 'imdb_score']).reset_index(drop=True)"
   ]
  },
  {
   "cell_type": "code",
   "execution_count": 52,
   "id": "fc7810eb",
   "metadata": {},
   "outputs": [],
   "source": [
    "# set budget to be in $M\n",
    "data['budget'] /= 1e+6"
   ]
  },
  {
   "cell_type": "code",
   "execution_count": 53,
   "id": "286500c2",
   "metadata": {},
   "outputs": [
    {
     "data": {
      "image/png": "[encoded data removed]",
      "text/plain": [
       "<Figure size 576x576 with 1 Axes>"
      ]
     },
     "metadata": {
      "needs_background": "light"
     },
     "output_type": "display_data"
    }
   ],
   "source": [
    "# plot what we got\n",
    "plt.figure(figsize=(8,8))\n",
    "plt.scatter(data['budget'], data['imdb_score'])\n",
    "\n",
    "plt.ylabel('IMDB Score', fontdict={'fontsize':12})\n",
    "plt.xlabel('Movie Budget (in $M)', fontdict={'fontsize':12})\n",
    "plt.title('IMDB Score vs. Movie Budget', fontdict={'fontsize':15})\n",
    "\n",
    "plt.show()"
   ]
  },
  {
   "cell_type": "markdown",
   "id": "00599556",
   "metadata": {},
   "source": [
    "#### There is no strong correlation between the two variables, but the scores variation decreases and tends to be high as movie budget increases"
   ]
  },
  {
   "cell_type": "markdown",
   "id": "3bdb5170",
   "metadata": {},
   "source": [
    "### Q7: Which country has the highest average spending per movie?"
   ]
  },
  {
   "cell_type": "code",
   "execution_count": 54,
   "id": "9ce56a9b",
   "metadata": {},
   "outputs": [],
   "source": [
    "# get slice of data free of nan's on 'country' and 'budget' columns\n",
    "data = df.dropna(subset=['country', 'budget']).reset_index(drop=True)\n",
    "\n",
    "# set budget to be in $M\n",
    "data['budget'] /= 1e+6"
   ]
  },
  {
   "cell_type": "code",
   "execution_count": 55,
   "id": "a0e21a9b",
   "metadata": {},
   "outputs": [
    {
     "data": {
      "text/plain": [
       "country\n",
       "South Korea             1383.960000\n",
       "Hungary                 1260.000000\n",
       "Japan                    350.595995\n",
       "Thailand                 227.250000\n",
       "India                     97.973355\n",
       "                           ...     \n",
       "Dominican Republic         0.500000\n",
       "United Arab Emirates       0.125000\n",
       "Afghanistan                0.046000\n",
       "Kenya                      0.015000\n",
       "Philippines                0.007000\n",
       "Name: budget, Length: 62, dtype: float64"
      ]
     },
     "execution_count": 55,
     "metadata": {},
     "output_type": "execute_result"
    }
   ],
   "source": [
    "# get mean movie budget per each country\n",
    "data.groupby(by='country')['budget'].mean().sort_values(ascending=False)"
   ]
  },
  {
   "cell_type": "code",
   "execution_count": 56,
   "id": "67920152",
   "metadata": {},
   "outputs": [],
   "source": [
    "# they are many to plot, so, we just take the top 5\n",
    "df_bar = data.groupby(by='country')['budget'].mean().sort_values(ascending=False).iloc[:5]"
   ]
  },
  {
   "cell_type": "code",
   "execution_count": 57,
   "id": "c6be3933",
   "metadata": {},
   "outputs": [
    {
     "data": {
      "image/png": "[encoded data removed]",
      "text/plain": [
       "<Figure size 576x576 with 1 Axes>"
      ]
     },
     "metadata": {
      "needs_background": "light"
     },
     "output_type": "display_data"
    }
   ],
   "source": [
    "# plot what we got\n",
    "plt.figure(figsize=(8,8))\n",
    "plt.barh(df_bar.index, df_bar.values)\n",
    "\n",
    "plt.ylabel('Country', fontdict={'fontsize':12})\n",
    "plt.xlabel('Mean Movie Budget (in $M)', fontdict={'fontsize':12})\n",
    "plt.title('Top 5 Countries according to Average Spending per Movie', fontdict={'fontsize':15})\n",
    "\n",
    "plt.show()"
   ]
  },
  {
   "cell_type": "markdown",
   "id": "c82f0d25",
   "metadata": {},
   "source": [
    "### Q8: Do movies with more genres usually have higher score?"
   ]
  },
  {
   "cell_type": "code",
   "execution_count": 58,
   "id": "6a127180",
   "metadata": {},
   "outputs": [],
   "source": [
    "# get slice of data free of nan's on 'genres' column\n",
    "data = df.dropna(subset=['genres']).reset_index(drop=True)"
   ]
  },
  {
   "cell_type": "code",
   "execution_count": 59,
   "id": "ae615a95",
   "metadata": {},
   "outputs": [],
   "source": [
    "# count the genres into new column by counting the seperator '|'\n",
    "data['number_of_genres'] = data['genres'].str.count('\\|')+1"
   ]
  },
  {
   "cell_type": "code",
   "execution_count": 60,
   "id": "f33e20e3",
   "metadata": {},
   "outputs": [
    {
     "data": {
      "image/png": "[encoded data removed]",
      "text/plain": [
       "<Figure size 576x576 with 1 Axes>"
      ]
     },
     "metadata": {
      "needs_background": "light"
     },
     "output_type": "display_data"
    }
   ],
   "source": [
    "# plot what we got\n",
    "plt.figure(figsize=(8,8))\n",
    "plt.scatter(data['number_of_genres'], data['imdb_score'])\n",
    "\n",
    "plt.ylabel('IMDB Score', fontdict={'fontsize':12})\n",
    "plt.xlabel('Number of Genres', fontdict={'fontsize':12})\n",
    "plt.title('IMDB Score vs. Number of Genres (per Movie)', fontdict={'fontsize':15})\n",
    "\n",
    "plt.show()"
   ]
  },
  {
   "cell_type": "markdown",
   "id": "0499b8dc",
   "metadata": {},
   "source": [
    "#### There is no strong correlation between the two variables, but the scores variation decreases and tends to be high as number of movie genres increases"
   ]
  },
  {
   "cell_type": "markdown",
   "id": "a3b0a2bc",
   "metadata": {},
   "source": [
    "### Q9: Does higher duration of films tends to come with higher budget?"
   ]
  },
  {
   "cell_type": "code",
   "execution_count": 61,
   "id": "5ee18409",
   "metadata": {},
   "outputs": [],
   "source": [
    "# get slice of data free of null values on 'duration' and 'budget' columns\n",
    "data = df.dropna(subset=['duration', 'budget']).reset_index(drop=True)\n",
    "\n",
    "# set budget to be in $M\n",
    "data['budget'] /= 1e+6"
   ]
  },
  {
   "cell_type": "code",
   "execution_count": 62,
   "id": "d782c2fd",
   "metadata": {},
   "outputs": [
    {
     "data": {
      "image/png": "[encoded data removed]",
      "text/plain": [
       "<Figure size 576x576 with 1 Axes>"
      ]
     },
     "metadata": {
      "needs_background": "light"
     },
     "output_type": "display_data"
    }
   ],
   "source": [
    "# plot what we got\n",
    "plt.figure(figsize=(8,8))\n",
    "plt.scatter(data['duration'], data['budget'])\n",
    "\n",
    "plt.ylabel('Movie Budget (in $M)', fontdict={'fontsize':12})\n",
    "plt.xlabel('Movie duration (in min.)', fontdict={'fontsize':12})\n",
    "plt.title('Movie Budget vs. Movie Duration', fontdict={'fontsize':15})\n",
    "\n",
    "plt.show()"
   ]
  },
  {
   "cell_type": "markdown",
   "id": "efa45f6f",
   "metadata": {},
   "source": [
    "#### It shows no relation between our two variables"
   ]
  },
  {
   "cell_type": "markdown",
   "id": "c624db2c",
   "metadata": {},
   "source": [
    "### Q10: Which director and country made the most diversified movie languages?"
   ]
  },
  {
   "cell_type": "code",
   "execution_count": 63,
   "id": "381a2d5c",
   "metadata": {},
   "outputs": [],
   "source": [
    "# get slice of data free of nan's on 'director_name' and 'language' columns\n",
    "data = df.dropna(subset=['director_name', 'language']).reset_index(drop=True)"
   ]
  },
  {
   "cell_type": "code",
   "execution_count": 64,
   "id": "52cdbaa9",
   "metadata": {},
   "outputs": [
    {
     "data": {
      "text/plain": [
       "director_name\n",
       "Kar-Wai Wong        3\n",
       "Michael Haneke      3\n",
       "Mel Gibson          3\n",
       "Sergey Bodrov       3\n",
       "Gabriele Muccino    2\n",
       "                   ..\n",
       "Gurinder Chadha     1\n",
       "Gus Van Sant        1\n",
       "Guy Hamilton        1\n",
       "Guy Maddin          1\n",
       "Étienne Faure       1\n",
       "Name: language, Length: 2395, dtype: int64"
      ]
     },
     "execution_count": 64,
     "metadata": {},
     "output_type": "execute_result"
    }
   ],
   "source": [
    "# count the different movie languages per director\n",
    "data.groupby('director_name')['language'].nunique().sort_values(ascending=False)"
   ]
  },
  {
   "cell_type": "code",
   "execution_count": 65,
   "id": "f5300e51",
   "metadata": {},
   "outputs": [],
   "source": [
    "# they are many to plot, so, we take just the top 5\n",
    "df_bar = data.groupby('director_name')['language'].nunique().sort_values(ascending=False).iloc[:5]"
   ]
  },
  {
   "cell_type": "code",
   "execution_count": 66,
   "id": "574895de",
   "metadata": {},
   "outputs": [
    {
     "data": {
      "image/png": "[encoded data removed]",
      "text/plain": [
       "<Figure size 576x576 with 1 Axes>"
      ]
     },
     "metadata": {
      "needs_background": "light"
     },
     "output_type": "display_data"
    }
   ],
   "source": [
    "# plot what we got\n",
    "plt.figure(figsize=(8,8))\n",
    "plt.barh(df_bar.index, df_bar.values)\n",
    "\n",
    "plt.ylabel('Director', fontdict={'fontsize':12})\n",
    "plt.xlabel('Number of different Movie Languages', fontdict={'fontsize':12})\n",
    "plt.title('Top 5 Directors have Diversed Movie Languages', fontdict={'fontsize':15})\n",
    "plt.xticks(range(0,4))\n",
    "\n",
    "plt.show()"
   ]
  },
  {
   "cell_type": "code",
   "execution_count": 67,
   "id": "5788d2a8",
   "metadata": {},
   "outputs": [],
   "source": [
    "# get slice of data free of nan's on 'country' and 'language' columns\n",
    "data = df.dropna(subset=['country', 'language']).reset_index(drop=True)"
   ]
  },
  {
   "cell_type": "code",
   "execution_count": 68,
   "id": "04f29949",
   "metadata": {},
   "outputs": [
    {
     "data": {
      "text/plain": [
       "country\n",
       "USA                   14\n",
       "UK                     7\n",
       "India                  5\n",
       "Canada                 5\n",
       "France                 5\n",
       "                      ..\n",
       "Nigeria                1\n",
       "Dominican Republic     1\n",
       "Official site          1\n",
       "Pakistan               1\n",
       "Afghanistan            1\n",
       "Name: language, Length: 65, dtype: int64"
      ]
     },
     "execution_count": 68,
     "metadata": {},
     "output_type": "execute_result"
    }
   ],
   "source": [
    "# count the different movie languages per country\n",
    "data.groupby('country')['language'].nunique().sort_values(ascending=False)"
   ]
  },
  {
   "cell_type": "code",
   "execution_count": 69,
   "id": "1de6dbf3",
   "metadata": {},
   "outputs": [],
   "source": [
    "# they are many to plot, so, we take just the top 5\n",
    "df_bar = data.groupby('country')['language'].nunique().sort_values(ascending=False).iloc[:5]"
   ]
  },
  {
   "cell_type": "code",
   "execution_count": 70,
   "id": "7703d6a3",
   "metadata": {},
   "outputs": [
    {
     "data": {
      "image/png": "[encoded data removed]",
      "text/plain": [
       "<Figure size 576x576 with 1 Axes>"
      ]
     },
     "metadata": {
      "needs_background": "light"
     },
     "output_type": "display_data"
    }
   ],
   "source": [
    "# plot what we got\n",
    "plt.figure(figsize=(8,8))\n",
    "plt.barh(df_bar.index, df_bar.values)\n",
    "\n",
    "plt.ylabel('Country', fontdict={'fontsize':12})\n",
    "plt.xlabel('Number of different Movie Languages', fontdict={'fontsize':12})\n",
    "plt.title('Top 5 Countries have Diversed Movie Languages', fontdict={'fontsize':15})\n",
    "plt.xticks(range(0,15))\n",
    "\n",
    "plt.show()"
   ]
  },
  {
   "cell_type": "markdown",
   "id": "815c9c1c",
   "metadata": {},
   "source": [
    "## Conclusion:\n",
    "\n",
    "> According to Mean Budget-to-score ratio, the highest 3 directors are: `Katsuhiro Otomo`, `Lajos Koltai` and `joon-ho bong`, while the lowest 3 ones are: `Jonathan Caouette`, `Benjamin Roberds` and `Anthony Vallone`.\n",
    "\n",
    "> There is no significant relation between duration and movie score, however, scores are getting less variate and tend to be high as duration increases.\n",
    "\n",
    "> Year `2005` had the highest budget spent on movies. The top movies in budget in 2005 are `Lady Vengeance`, `Fateless`, `King Kong`, `The Protector and The Chronicles of Narnia: The Lion, the Witch and the Wardrobe`. \n",
    "\n",
    "> Most 5 actors duets are `Adam Sandler - Adam Buscemi`, `Leonard Nimoy - Nichelle Nichols`, `Bruce Willis - Morgan Freeman`, `John Ratzenberger - Tom Hanks` and `Alan Rickman - Johnny Depp`.\n",
    "\n",
    "> The top 3 actors `Steven Spielberg` favors most as main actors are `Harrison Ford`, `Tom Hanks` and `Tom Cruise`.\n",
    "\n",
    "> There is no strong correlation between high budget and high scores, however, the scores variation decreases and tends to be high as movie budget increases.\n",
    "\n",
    "> Top 5 countries according average spending per movie are `South Korea`, `Hungary`, `Japan`, `Thailand` and `India`.\n",
    "\n",
    "> There is no strong correlation between diversity of genres and high scores, however, the scores variation decreases and tends to be high as number of movie genres increases.\n",
    "\n",
    "> There is no relation between movie duration and movie budget.\n",
    "\n",
    "> Top 5 Directors have Diversed Movie Languages are `Kar-Wai Wong`, `Michael Hanneke`, `Mel Gibson`, `Sergey Bodrov` and `Gabriele Muccino`."
   ]
  },
  {
   "cell_type": "markdown",
   "id": "5cbc5e41",
   "metadata": {},
   "source": [
    "### I hope you share me your feedback at: https://www.linkedin.com/in/moamen-abdelrahman05/\n",
    "\n",
    "# Thanks for your interest!"
   ]
  }
 ],
 "metadata": {
  "kernelspec": {
   "display_name": "Python 3 (ipykernel)",
   "language": "python",
   "name": "python3"
  },
  "language_info": {
   "codemirror_mode": {
    "name": "ipython",
    "version": 3
   },
   "file_extension": ".py",
   "mimetype": "text/x-python",
   "name": "python",
   "nbconvert_exporter": "python",
   "pygments_lexer": "ipython3",
   "version": "3.9.12"
  }
 },
 "nbformat": 4,
 "nbformat_minor": 5
}
